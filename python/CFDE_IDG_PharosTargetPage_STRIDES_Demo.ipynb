{
  "nbformat": 4,
  "nbformat_minor": 0,
  "metadata": {
    "colab": {
      "name": "CFDE-IDG_PharosTargetPage_STRIDES_Demo.ipynb",
      "provenance": [],
      "collapsed_sections": [],
      "authorship_tag": "ABX9TyOz8Cc5A63jp91YEc/QupQu",
      "include_colab_link": true
    },
    "kernelspec": {
      "name": "python3",
      "display_name": "Python 3"
    }
  },
  "cells": [
    {
      "cell_type": "markdown",
      "metadata": {
        "id": "view-in-github",
        "colab_type": "text"
      },
      "source": [
        "<a href=\"https://colab.research.google.com/github/druggablegenome/idg-cfde/blob/main/python/CFDE_IDG_PharosTargetPage_STRIDES_Demo.ipynb\" target=\"_parent\"><img src=\"https://colab.research.google.com/assets/colab-badge.svg\" alt=\"Open In Colab\"/></a>"
      ]
    },
    {
      "cell_type": "markdown",
      "metadata": {
        "id": "FSfgnYB0_8-N"
      },
      "source": [
        "<img align=\"right\" src=\"https://druggablegenome.net/IDG_Images_Index/DRGC.png\" height=\"100\">\n",
        "<img align=\"right\" src=\"https://www.nih-cfde.org/wp-content/uploads/2020/11/CFDE_logo-color-web.png\" width=\"200\">\n",
        "\n",
        "# CFDE-IDG Pharos TargetPage STRIDES Demo\n",
        "\n",
        "* https://www.nih-cfde.org/\n",
        "* https://druggablegenome.net\n",
        "\n",
        "In this simple CFDE-IDG demo we pull Pharos/TCRD data from AWS S3 cloud storage provided via NIH STRIDES, for display, analysis and integration with related entities and datasets."
      ]
    },
    {
      "cell_type": "markdown",
      "metadata": {
        "id": "mR-Y0rkhC2v7"
      },
      "source": [
        "## Imports"
      ]
    },
    {
      "cell_type": "code",
      "metadata": {
        "id": "u38dcHad_0gv"
      },
      "source": [
        "import sys,os,io,json,requests,urllib.request\n",
        "import pandas as pd"
      ],
      "execution_count": 1,
      "outputs": []
    },
    {
      "cell_type": "markdown",
      "source": [
        "## Configuration"
      ],
      "metadata": {
        "id": "t-RoqpbJ2Tbh"
      }
    },
    {
      "cell_type": "code",
      "source": [
        "bucket_id = \"kmc-idg\"\n",
        "bucket_host = f\"{bucket_id}.s3.amazonaws.com\"\n",
        "url_basepath = \"unm/tcrd\"\n",
        "tcrdid = 4798"
      ],
      "metadata": {
        "id": "KWgQnnL-2Vy9"
      },
      "execution_count": 4,
      "outputs": []
    },
    {
      "cell_type": "markdown",
      "source": [
        "## Request TargetPage file from AWS S3 bucket"
      ],
      "metadata": {
        "id": "JTSx--oTuJve"
      }
    },
    {
      "cell_type": "code",
      "source": [
        "filename = f\"tcrd_target_{tcrdid:05d}.json\"\n",
        "response = requests.get(f\"https://{bucket_host}/{url_basepath}/{filename}\")\n",
        "targetpage = response.json()[0] #TBF, should be dict\n",
        "pd.DataFrame.from_dict({key:[str(val)] for key,val in targetpage.items()}).transpose()"
      ],
      "metadata": {
        "colab": {
          "base_uri": "https://localhost:8080/",
          "height": 520
        },
        "id": "yWmBWy73uTky",
        "outputId": "b1316091-f94c-494b-a728-119f0611793c"
      },
      "execution_count": 6,
      "outputs": [
        {
          "output_type": "execute_result",
          "data": {
            "text/plain": [
              "                                                                     0\n",
              "target_id                                                         4798\n",
              "target_name          DNA-directed RNA polymerases I and III subunit...\n",
              "target_description                                                None\n",
              "target_fam                                                      Enzyme\n",
              "target_tdl                                                        Tbio\n",
              "target_ttype                                            Single Protein\n",
              "protein_id                                                        4798\n",
              "protein_sym                                                     POLR1D\n",
              "protein_uniprot                                                 P0DPB6\n",
              "protein_geneid                                                   51082\n",
              "protein_name                                               RPAC2_HUMAN\n",
              "protein_description  DNA-directed RNA polymerases I and III subunit...\n",
              "protein_family       Belongs to the archaeal RpoL/eukaryotic RPB11/...\n",
              "protein_chr                                                       None\n",
              "ensemblGeneId                                          ENSG00000186184"
            ],
            "text/html": [
              "\n",
              "  <div id=\"df-cfb0bc5d-8a15-4a7d-9cba-88b0603059e4\">\n",
              "    <div class=\"colab-df-container\">\n",
              "      <div>\n",
              "<style scoped>\n",
              "    .dataframe tbody tr th:only-of-type {\n",
              "        vertical-align: middle;\n",
              "    }\n",
              "\n",
              "    .dataframe tbody tr th {\n",
              "        vertical-align: top;\n",
              "    }\n",
              "\n",
              "    .dataframe thead th {\n",
              "        text-align: right;\n",
              "    }\n",
              "</style>\n",
              "<table border=\"1\" class=\"dataframe\">\n",
              "  <thead>\n",
              "    <tr style=\"text-align: right;\">\n",
              "      <th></th>\n",
              "      <th>0</th>\n",
              "    </tr>\n",
              "  </thead>\n",
              "  <tbody>\n",
              "    <tr>\n",
              "      <th>target_id</th>\n",
              "      <td>4798</td>\n",
              "    </tr>\n",
              "    <tr>\n",
              "      <th>target_name</th>\n",
              "      <td>DNA-directed RNA polymerases I and III subunit...</td>\n",
              "    </tr>\n",
              "    <tr>\n",
              "      <th>target_description</th>\n",
              "      <td>None</td>\n",
              "    </tr>\n",
              "    <tr>\n",
              "      <th>target_fam</th>\n",
              "      <td>Enzyme</td>\n",
              "    </tr>\n",
              "    <tr>\n",
              "      <th>target_tdl</th>\n",
              "      <td>Tbio</td>\n",
              "    </tr>\n",
              "    <tr>\n",
              "      <th>target_ttype</th>\n",
              "      <td>Single Protein</td>\n",
              "    </tr>\n",
              "    <tr>\n",
              "      <th>protein_id</th>\n",
              "      <td>4798</td>\n",
              "    </tr>\n",
              "    <tr>\n",
              "      <th>protein_sym</th>\n",
              "      <td>POLR1D</td>\n",
              "    </tr>\n",
              "    <tr>\n",
              "      <th>protein_uniprot</th>\n",
              "      <td>P0DPB6</td>\n",
              "    </tr>\n",
              "    <tr>\n",
              "      <th>protein_geneid</th>\n",
              "      <td>51082</td>\n",
              "    </tr>\n",
              "    <tr>\n",
              "      <th>protein_name</th>\n",
              "      <td>RPAC2_HUMAN</td>\n",
              "    </tr>\n",
              "    <tr>\n",
              "      <th>protein_description</th>\n",
              "      <td>DNA-directed RNA polymerases I and III subunit...</td>\n",
              "    </tr>\n",
              "    <tr>\n",
              "      <th>protein_family</th>\n",
              "      <td>Belongs to the archaeal RpoL/eukaryotic RPB11/...</td>\n",
              "    </tr>\n",
              "    <tr>\n",
              "      <th>protein_chr</th>\n",
              "      <td>None</td>\n",
              "    </tr>\n",
              "    <tr>\n",
              "      <th>ensemblGeneId</th>\n",
              "      <td>ENSG00000186184</td>\n",
              "    </tr>\n",
              "  </tbody>\n",
              "</table>\n",
              "</div>\n",
              "      <button class=\"colab-df-convert\" onclick=\"convertToInteractive('df-cfb0bc5d-8a15-4a7d-9cba-88b0603059e4')\"\n",
              "              title=\"Convert this dataframe to an interactive table.\"\n",
              "              style=\"display:none;\">\n",
              "        \n",
              "  <svg xmlns=\"http://www.w3.org/2000/svg\" height=\"24px\"viewBox=\"0 0 24 24\"\n",
              "       width=\"24px\">\n",
              "    <path d=\"M0 0h24v24H0V0z\" fill=\"none\"/>\n",
              "    <path d=\"M18.56 5.44l.94 2.06.94-2.06 2.06-.94-2.06-.94-.94-2.06-.94 2.06-2.06.94zm-11 1L8.5 8.5l.94-2.06 2.06-.94-2.06-.94L8.5 2.5l-.94 2.06-2.06.94zm10 10l.94 2.06.94-2.06 2.06-.94-2.06-.94-.94-2.06-.94 2.06-2.06.94z\"/><path d=\"M17.41 7.96l-1.37-1.37c-.4-.4-.92-.59-1.43-.59-.52 0-1.04.2-1.43.59L10.3 9.45l-7.72 7.72c-.78.78-.78 2.05 0 2.83L4 21.41c.39.39.9.59 1.41.59.51 0 1.02-.2 1.41-.59l7.78-7.78 2.81-2.81c.8-.78.8-2.07 0-2.86zM5.41 20L4 18.59l7.72-7.72 1.47 1.35L5.41 20z\"/>\n",
              "  </svg>\n",
              "      </button>\n",
              "      \n",
              "  <style>\n",
              "    .colab-df-container {\n",
              "      display:flex;\n",
              "      flex-wrap:wrap;\n",
              "      gap: 12px;\n",
              "    }\n",
              "\n",
              "    .colab-df-convert {\n",
              "      background-color: #E8F0FE;\n",
              "      border: none;\n",
              "      border-radius: 50%;\n",
              "      cursor: pointer;\n",
              "      display: none;\n",
              "      fill: #1967D2;\n",
              "      height: 32px;\n",
              "      padding: 0 0 0 0;\n",
              "      width: 32px;\n",
              "    }\n",
              "\n",
              "    .colab-df-convert:hover {\n",
              "      background-color: #E2EBFA;\n",
              "      box-shadow: 0px 1px 2px rgba(60, 64, 67, 0.3), 0px 1px 3px 1px rgba(60, 64, 67, 0.15);\n",
              "      fill: #174EA6;\n",
              "    }\n",
              "\n",
              "    [theme=dark] .colab-df-convert {\n",
              "      background-color: #3B4455;\n",
              "      fill: #D2E3FC;\n",
              "    }\n",
              "\n",
              "    [theme=dark] .colab-df-convert:hover {\n",
              "      background-color: #434B5C;\n",
              "      box-shadow: 0px 1px 3px 1px rgba(0, 0, 0, 0.15);\n",
              "      filter: drop-shadow(0px 1px 2px rgba(0, 0, 0, 0.3));\n",
              "      fill: #FFFFFF;\n",
              "    }\n",
              "  </style>\n",
              "\n",
              "      <script>\n",
              "        const buttonEl =\n",
              "          document.querySelector('#df-cfb0bc5d-8a15-4a7d-9cba-88b0603059e4 button.colab-df-convert');\n",
              "        buttonEl.style.display =\n",
              "          google.colab.kernel.accessAllowed ? 'block' : 'none';\n",
              "\n",
              "        async function convertToInteractive(key) {\n",
              "          const element = document.querySelector('#df-cfb0bc5d-8a15-4a7d-9cba-88b0603059e4');\n",
              "          const dataTable =\n",
              "            await google.colab.kernel.invokeFunction('convertToInteractive',\n",
              "                                                     [key], {});\n",
              "          if (!dataTable) return;\n",
              "\n",
              "          const docLinkHtml = 'Like what you see? Visit the ' +\n",
              "            '<a target=\"_blank\" href=https://colab.research.google.com/notebooks/data_table.ipynb>data table notebook</a>'\n",
              "            + ' to learn more about interactive tables.';\n",
              "          element.innerHTML = '';\n",
              "          dataTable['output_type'] = 'display_data';\n",
              "          await google.colab.output.renderOutput(dataTable, element);\n",
              "          const docLink = document.createElement('div');\n",
              "          docLink.innerHTML = docLinkHtml;\n",
              "          element.appendChild(docLink);\n",
              "        }\n",
              "      </script>\n",
              "    </div>\n",
              "  </div>\n",
              "  "
            ]
          },
          "metadata": {},
          "execution_count": 6
        }
      ]
    }
  ]
}